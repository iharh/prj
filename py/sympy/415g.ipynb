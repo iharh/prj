{
 "cells": [
  {
   "cell_type": "code",
   "execution_count": 4,
   "metadata": {},
   "outputs": [
    {
     "name": "stdout",
     "output_type": "stream",
     "text": [
      "3.5\n",
      "4.75\n",
      "11.4\n",
      "1.25\n"
     ]
    }
   ],
   "source": [
    "v1 = 1.25\n",
    "v2 = 86.45/24.7\n",
    "print(v2)\n",
    "v3 = v1+v2\n",
    "print(v3)\n",
    "v4 = v3*2.4\n",
    "print(v4)\n",
    "v5 = 12.65 - v4\n",
    "print(v5)"
   ]
  }
 ],
 "metadata": {
  "kernelspec": {
   "display_name": "Python 3",
   "language": "python",
   "name": "python3"
  },
  "language_info": {
   "codemirror_mode": {
    "name": "ipython",
    "version": 3
   },
   "file_extension": ".py",
   "mimetype": "text/x-python",
   "name": "python",
   "nbconvert_exporter": "python",
   "pygments_lexer": "ipython3",
   "version": "3.7.0"
  }
 },
 "nbformat": 4,
 "nbformat_minor": 2
}
