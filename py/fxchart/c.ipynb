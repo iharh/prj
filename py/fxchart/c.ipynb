{
 "cells": [
  {
   "cell_type": "code",
   "execution_count": 11,
   "metadata": {
    "scrolled": true
   },
   "outputs": [
    {
     "data": {
      "text/plain": [
       "<matplotlib.axes._subplots.AxesSubplot at 0x7f7a0d779828>"
      ]
     },
     "execution_count": 11,
     "metadata": {},
     "output_type": "execute_result"
    },
    {
     "data": {
      "image/png": "[encoded data removed]",
      "text/plain": [
       "<matplotlib.figure.Figure at 0x7f7a0d7649e8>"
      ]
     },
     "metadata": {},
     "output_type": "display_data"
    }
   ],
   "source": [
    "import altair as alt\n",
    "import pandas as pd\n",
    "import numpy as np\n",
    "\n",
    "df = pd.read_csv('data/ex1.csv')\n",
    "df.boxplot(by='name')\n",
    "\n",
    "#alt.Chart(df).mark_point(filled=True).encode(\n",
    "#    x='name',\n",
    "#    y='value',\n",
    "#    color='name'\n",
    "#)\n",
    "\n",
    "#alt.Chart('https://vega.github.io/vega-lite/data/barley.json',\n",
    "#    description='Slope graph showing the change in yield for different barley sites. It shows the error in the year labels for the Morris site.',\n",
    "#).mark_line().encode(\n",
    "#    color='site:N',\n",
    "#    x=alt.X('year:O',\n",
    "#        scale=alt.Scale(\n",
    "#            bandSize=50.0,\n",
    "#            padding=0.5,\n",
    "#        ),\n",
    "#    ),\n",
    "#    y='median(yield):Q',\n",
    "#)"
   ]
  }
 ],
 "metadata": {
  "kernelspec": {
   "display_name": "Python 3",
   "language": "python",
   "name": "python3"
  },
  "language_info": {
   "codemirror_mode": {
    "name": "ipython",
    "version": 3
   },
   "file_extension": ".py",
   "mimetype": "text/x-python",
   "name": "python",
   "nbconvert_exporter": "python",
   "pygments_lexer": "ipython3",
   "version": "3.6.4"
  }
 },
 "nbformat": 4,
 "nbformat_minor": 2
}
