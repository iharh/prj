{
 "cells": [
  {
   "cell_type": "code",
   "execution_count": 20,
   "metadata": {},
   "outputs": [
    {
     "name": "stdout",
     "output_type": "stream",
     "text": [
      "lội lội lội\n"
     ]
    }
   ],
   "source": [
    "from icu import Normalizer2\n",
    "\n",
    "composer = Normalizer2.getNFCInstance()\n",
    "decomposer = Normalizer2.getNFDInstance()\n",
    "\n",
    "def compDecomp(orig):\n",
    "    composed = composer.normalize(orig)\n",
    "    decomposed = composer.normalize(orig)\n",
    "    print(f\"{orig} {composed} {decomposed}\")\n",
    "    \n",
    "compDecomp('lội')"
   ]
  },
  {
   "cell_type": "code",
   "execution_count": null,
   "metadata": {},
   "outputs": [],
   "source": []
  }
 ],
 "metadata": {
  "kernelspec": {
   "display_name": "Python 3",
   "language": "python",
   "name": "python3"
  },
  "language_info": {
   "codemirror_mode": {
    "name": "ipython",
    "version": 3
   },
   "file_extension": ".py",
   "mimetype": "text/x-python",
   "name": "python",
   "nbconvert_exporter": "python",
   "pygments_lexer": "ipython3",
   "version": "3.6.4"
  }
 },
 "nbformat": 4,
 "nbformat_minor": 2
}
