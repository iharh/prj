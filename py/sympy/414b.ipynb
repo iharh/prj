{
 "cells": [
  {
   "cell_type": "code",
   "execution_count": 4,
   "metadata": {},
   "outputs": [
    {
     "name": "stdout",
     "output_type": "stream",
     "text": [
      "6.008\n",
      "4.8\n",
      "0.504\n",
      "0.8\n"
     ]
    }
   ],
   "source": [
    "v1 = 19.526/3.25\n",
    "print(v1)\n",
    "v2 = v1 - 1.208\n",
    "print(v2)\n",
    "v3 = 0.105*v2\n",
    "print(v3)\n",
    "v4 = 0.296 + v3\n",
    "print(v4)"
   ]
  }
 ],
 "metadata": {
  "kernelspec": {
   "display_name": "Python 3",
   "language": "python",
   "name": "python3"
  },
  "language_info": {
   "codemirror_mode": {
    "name": "ipython",
    "version": 3
   },
   "file_extension": ".py",
   "mimetype": "text/x-python",
   "name": "python",
   "nbconvert_exporter": "python",
   "pygments_lexer": "ipython3",
   "version": "3.7.0"
  }
 },
 "nbformat": 4,
 "nbformat_minor": 2
}
