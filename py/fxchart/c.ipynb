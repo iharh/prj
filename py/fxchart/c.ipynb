{
 "cells": [
  {
   "cell_type": "code",
   "execution_count": 2,
   "metadata": {},
   "outputs": [
    {
     "data": {
      "text/plain": [
       "<matplotlib.axes._subplots.AxesSubplot at 0x7efd9c24a240>"
      ]
     },
     "execution_count": 2,
     "metadata": {},
     "output_type": "execute_result"
    },
    {
     "data": {
      "image/png": "[encoded data removed]",
      "text/plain": [
       "<matplotlib.figure.Figure at 0x7efd9c212780>"
      ]
     },
     "metadata": {},
     "output_type": "display_data"
    }
   ],
   "source": [
    "import pandas as pd\n",
    "\n",
    "df0 = pd.read_csv('data/stat0.csv')\n",
    "\n",
    "def process(df, val_col):\n",
    "    dfr = df.loc[:,['name', val_col]].sort_values(by=['name', val_col]).groupby('name', as_index=False).apply(lambda grp: grp.iloc[2:-2])\n",
    "    dfr.to_csv('data/{}-percentiled.csv'.format(val_col), index=False)\n",
    "    return dfr\n",
    "    \n",
    "process(df0, 'all').boxplot(by='name')\n",
    "#process('cpu').boxplot(by='name')"
   ]
  },
  {
   "cell_type": "code",
   "execution_count": 4,
   "metadata": {},
   "outputs": [
    {
     "name": "stdout",
     "output_type": "stream",
     "text": [
      "  name       min    median       max\n",
      "0    A  1786.165  1794.837  1807.391\n",
      "1    B  1782.901  1792.965  1810.074\n",
      "2    C  1788.896  1793.613  1796.643\n",
      "3    D  1796.674  1806.654  1828.625\n",
      "4    E  1794.174  1798.694  1811.183\n"
     ]
    }
   ],
   "source": [
    "import pandas as pd\n",
    "import numpy as np\n",
    "import matplotlib.pyplot as plt\n",
    "import altair as alt\n",
    "\n",
    "df0 = pd.read_csv('data/stat0.csv')\n",
    "\n",
    "def process_agg(df, val_col):\n",
    "    dfr = df.loc[:,['name', val_col]].groupby('name', as_index=False).apply(lambda grp: grp.iloc[2:-2])\n",
    "    dfr = dfr.groupby('name').agg([np.min, np.median, np.max])\n",
    "    dfr = pd.DataFrame(dfr.to_records())\n",
    "    dfr.columns = ['name', 'min', 'median', 'max']\n",
    "    dfr.to_csv('data/{}-agg.csv'.format(val_col), index=False)\n",
    "    return dfr\n",
    "\n",
    "df = process_agg(df0, 'all')\n",
    "df"
   ]
  }
 ],
 "metadata": {
  "kernelspec": {
   "display_name": "Python 3",
   "language": "python",
   "name": "python3"
  },
  "language_info": {
   "codemirror_mode": {
    "name": "ipython",
    "version": 3
   },
   "file_extension": ".py",
   "mimetype": "text/x-python",
   "name": "python",
   "nbconvert_exporter": "python",
   "pygments_lexer": "ipython3",
   "version": "3.6.4"
  }
 },
 "nbformat": 4,
 "nbformat_minor": 2
}
