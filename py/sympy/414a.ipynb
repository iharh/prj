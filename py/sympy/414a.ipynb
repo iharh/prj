{
 "cells": [
  {
   "cell_type": "code",
   "execution_count": 14,
   "metadata": {},
   "outputs": [
    {
     "name": "stdout",
     "output_type": "stream",
     "text": [
      "6.085\n",
      "9.870000000000001\n",
      "9.87\n",
      "10.0674\n",
      "9.424\n"
     ]
    }
   ],
   "source": [
    "v1 = 1.217/0.2\n",
    "print(v1)\n",
    "v2 = 3.785 + v1\n",
    "print(v2)\n",
    "v2 = 9.87\n",
    "print(v2)\n",
    "v3 = 1.02*v2\n",
    "print(v3)\n",
    "v4 = v3 - 0.6434\n",
    "print(v4)\n",
    "\n"
   ]
  },
  {
   "cell_type": "code",
   "execution_count": null,
   "metadata": {},
   "outputs": [],
   "source": []
  }
 ],
 "metadata": {
  "kernelspec": {
   "display_name": "Python 3",
   "language": "python",
   "name": "python3"
  },
  "language_info": {
   "codemirror_mode": {
    "name": "ipython",
    "version": 3
   },
   "file_extension": ".py",
   "mimetype": "text/x-python",
   "name": "python",
   "nbconvert_exporter": "python",
   "pygments_lexer": "ipython3",
   "version": "3.7.0"
  }
 },
 "nbformat": 4,
 "nbformat_minor": 2
}
