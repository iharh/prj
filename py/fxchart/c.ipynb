{
 "cells": [
  {
   "cell_type": "code",
   "execution_count": 8,
   "metadata": {},
   "outputs": [
    {
     "data": {
      "text/html": [
       "<div class=\"vega-embed\" id=\"e46f708e-29b1-46dd-9a40-c8b39c505b6a\"></div>\n",
       "\n",
       "<style>\n",
       ".vega-embed svg, .vega-embed canvas {\n",
       "  border: 1px dotted gray;\n",
       "}\n",
       "\n",
       ".vega-embed .vega-actions a {\n",
       "  margin-right: 6px;\n",
       "}\n",
       "</style>\n"
      ]
     },
     "metadata": {
      "jupyter-vega": "#e46f708e-29b1-46dd-9a40-c8b39c505b6a"
     },
     "output_type": "display_data"
    },
    {
     "data": {
      "application/javascript": [
       "var spec = {\"config\": {\"cell\": {\"width\": 500, \"height\": 350}, \"mark\": {\"filled\": true}}, \"encoding\": {\"color\": {\"field\": \"name\", \"type\": \"nominal\"}, \"x\": {\"field\": \"name\", \"type\": \"nominal\"}, \"y\": {\"field\": \"value\", \"type\": \"quantitative\"}}, \"mark\": \"point\", \"data\": {\"values\": [{\"name\": \"C\", \"value\": 2}, {\"name\": \"C\", \"value\": 7}, {\"name\": \"C\", \"value\": 4}, {\"name\": \"D\", \"value\": 1}, {\"name\": \"D\", \"value\": 2}, {\"name\": \"D\", \"value\": 6}, {\"name\": \"E\", \"value\": 8}, {\"name\": \"E\", \"value\": 4}, {\"name\": \"E\", \"value\": 7}]}, \"$schema\": \"https://vega.github.io/schema/vega-lite/v1.2.1.json\"};\n",
       "var selector = \"#e46f708e-29b1-46dd-9a40-c8b39c505b6a\";\n",
       "var type = \"vega-lite\";\n",
       "\n",
       "var output_area = this;\n",
       "require(['nbextensions/jupyter-vega/index'], function(vega) {\n",
       "  vega.render(selector, spec, type, output_area);\n",
       "}, function (err) {\n",
       "  if (err.requireType !== 'scripterror') {\n",
       "    throw(err);\n",
       "  }\n",
       "});\n"
      ]
     },
     "metadata": {
      "jupyter-vega": "#e46f708e-29b1-46dd-9a40-c8b39c505b6a"
     },
     "output_type": "display_data"
    },
    {
     "data": {
      "image/png": "[encoded data removed]"
     },
     "metadata": {
      "jupyter-vega": "#e46f708e-29b1-46dd-9a40-c8b39c505b6a"
     },
     "output_type": "display_data"
    }
   ],
   "source": [
    "import altair as alt\n",
    "import pandas as pd\n",
    "\n",
    "#df = pd.DataFrame({\n",
    "#    'name' : list('CCCDDDEEE'),\n",
    "#    'value': [2, 7, 4, 1, 2, 6, 8, 4, 7]\n",
    "#})\n",
    "#df.to_csv('example.csv', index=False)\n",
    "\n",
    "df = pd.read_csv('data/example.csv')\n",
    "\n",
    "alt.Chart(df).mark_point(filled=True).encode(\n",
    "    x='name',\n",
    "    y='value',\n",
    "    color='name'\n",
    ")"
   ]
  },
  {
   "cell_type": "code",
   "execution_count": null,
   "metadata": {},
   "outputs": [],
   "source": []
  }
 ],
 "metadata": {
  "kernelspec": {
   "display_name": "Python 3",
   "language": "python",
   "name": "python3"
  },
  "language_info": {
   "codemirror_mode": {
    "name": "ipython",
    "version": 3
   },
   "file_extension": ".py",
   "mimetype": "text/x-python",
   "name": "python",
   "nbconvert_exporter": "python",
   "pygments_lexer": "ipython3",
   "version": "3.6.4"
  }
 },
 "nbformat": 4,
 "nbformat_minor": 2
}
