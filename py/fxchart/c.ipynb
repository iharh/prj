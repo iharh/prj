{
 "cells": [
  {
   "cell_type": "code",
   "execution_count": 162,
   "metadata": {},
   "outputs": [
    {
     "data": {
      "text/plain": [
       "<matplotlib.axes._subplots.AxesSubplot at 0x7f5c69e2c5f8>"
      ]
     },
     "execution_count": 162,
     "metadata": {},
     "output_type": "execute_result"
    },
    {
     "data": {
      "image/png": "[encoded data removed]",
      "text/plain": [
       "<matplotlib.figure.Figure at 0x7f5c69de0e48>"
      ]
     },
     "metadata": {},
     "output_type": "display_data"
    }
   ],
   "source": [
    "import pandas as pd\n",
    "\n",
    "df0 = pd.read_csv('data/stat0.csv')\n",
    "\n",
    "def process(df, val_col):\n",
    "    dfr = df.loc[:,['name', val_col]].sort_values(by=['name', val_col]).groupby('name', as_index=False).apply(lambda grp: grp.iloc[2:-2])\n",
    "    dfr.to_csv('data/{}-percentiled.csv'.format(val_col), index=False)\n",
    "    return dfr\n",
    "    \n",
    "process(df0, 'all').boxplot(by='name')\n",
    "#process('cpu').boxplot(by='name')"
   ]
  },
  {
   "cell_type": "code",
   "execution_count": 1,
   "metadata": {},
   "outputs": [
    {
     "data": {
      "text/html": [
       "<div>\n",
       "<style scoped>\n",
       "    .dataframe tbody tr th:only-of-type {\n",
       "        vertical-align: middle;\n",
       "    }\n",
       "\n",
       "    .dataframe tbody tr th {\n",
       "        vertical-align: top;\n",
       "    }\n",
       "\n",
       "    .dataframe thead th {\n",
       "        text-align: right;\n",
       "    }\n",
       "</style>\n",
       "<table border=\"1\" class=\"dataframe\">\n",
       "  <thead>\n",
       "    <tr style=\"text-align: right;\">\n",
       "      <th></th>\n",
       "      <th>name</th>\n",
       "      <th>min</th>\n",
       "      <th>median</th>\n",
       "      <th>max</th>\n",
       "    </tr>\n",
       "  </thead>\n",
       "  <tbody>\n",
       "    <tr>\n",
       "      <th>0</th>\n",
       "      <td>A</td>\n",
       "      <td>1786.165</td>\n",
       "      <td>1794.837</td>\n",
       "      <td>1807.391</td>\n",
       "    </tr>\n",
       "    <tr>\n",
       "      <th>1</th>\n",
       "      <td>B</td>\n",
       "      <td>1782.901</td>\n",
       "      <td>1792.965</td>\n",
       "      <td>1810.074</td>\n",
       "    </tr>\n",
       "    <tr>\n",
       "      <th>2</th>\n",
       "      <td>C</td>\n",
       "      <td>1788.896</td>\n",
       "      <td>1793.613</td>\n",
       "      <td>1796.643</td>\n",
       "    </tr>\n",
       "    <tr>\n",
       "      <th>3</th>\n",
       "      <td>D</td>\n",
       "      <td>1796.674</td>\n",
       "      <td>1806.654</td>\n",
       "      <td>1828.625</td>\n",
       "    </tr>\n",
       "  </tbody>\n",
       "</table>\n",
       "</div>"
      ],
      "text/plain": [
       "  name       min    median       max\n",
       "0    A  1786.165  1794.837  1807.391\n",
       "1    B  1782.901  1792.965  1810.074\n",
       "2    C  1788.896  1793.613  1796.643\n",
       "3    D  1796.674  1806.654  1828.625"
      ]
     },
     "execution_count": 1,
     "metadata": {},
     "output_type": "execute_result"
    }
   ],
   "source": [
    "import pandas as pd\n",
    "import numpy as np\n",
    "import matplotlib.pyplot as plt\n",
    "import altair as alt\n",
    "\n",
    "df0 = pd.read_csv('data/stat0.csv')\n",
    "\n",
    "def process_agg(df, val_col):\n",
    "    dfr = df.loc[:,['name', val_col]].groupby('name', as_index=False).apply(lambda grp: grp.iloc[2:-2])\n",
    "    dfr = dfr.groupby('name').agg([np.min, np.median, np.max])\n",
    "    dfr = pd.DataFrame(dfr.to_records())\n",
    "    dfr.columns = ['name', 'min', 'median', 'max']\n",
    "    dfr.to_csv('data/{}-agg.csv'.format(val_col), index=False)\n",
    "    return dfr\n",
    "\n",
    "df = process_agg(df0, 'all')\n",
    "df"
   ]
  }
 ],
 "metadata": {
  "kernelspec": {
   "display_name": "Python 3",
   "language": "python",
   "name": "python3"
  },
  "language_info": {
   "codemirror_mode": {
    "name": "ipython",
    "version": 3
   },
   "file_extension": ".py",
   "mimetype": "text/x-python",
   "name": "python",
   "nbconvert_exporter": "python",
   "pygments_lexer": "ipython3",
   "version": "3.6.4"
  }
 },
 "nbformat": 4,
 "nbformat_minor": 2
}
