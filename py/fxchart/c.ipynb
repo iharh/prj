{
 "cells": [
  {
   "cell_type": "code",
   "execution_count": 1,
   "metadata": {
    "scrolled": true
   },
   "outputs": [
    {
     "data": {
      "text/plain": [
       "<matplotlib.axes._subplots.AxesSubplot at 0x7f77028db7f0>"
      ]
     },
     "execution_count": 1,
     "metadata": {},
     "output_type": "execute_result"
    }
   ],
   "source": [
    "import pandas as pd\n",
    "import altair as alt\n",
    "\n",
    "dfAll = pd.read_csv('data/all-percentiled.csv')\n",
    "dfAll.boxplot(by='name')\n",
    "dfCpu = pd.read_csv('data/cpu-percentiled.csv')\n",
    "dfCpu.boxplot(by='name')\n",
    "\n",
    "#alt.Chart(df).mark_point(filled=True).encode(\n",
    "#    x='name',\n",
    "#    y='value',\n",
    "#    color='name'\n",
    "#)\n",
    "\n",
    "#alt.Chart('https://vega.github.io/vega-lite/data/barley.json',\n",
    "#    description='Slope graph showing the change in yield for different barley sites. It shows the error in the year labels for the Morris site.',\n",
    "#).mark_line().encode(\n",
    "#    color='site:N',\n",
    "#    x=alt.X('year:O',\n",
    "#        scale=alt.Scale(\n",
    "#            bandSize=50.0,\n",
    "#            padding=0.5,\n",
    "#        ),\n",
    "#    ),\n",
    "#    y='median(yield):Q',\n",
    "#)"
   ]
  },
  {
   "cell_type": "code",
   "execution_count": 46,
   "metadata": {},
   "outputs": [
    {
     "data": {
      "text/html": [
       "<div class=\"vega-embed\" id=\"8715cfe9-5bab-46c2-81f8-b1b89ade3af5\"></div>\n",
       "\n",
       "<style>\n",
       ".vega-embed svg, .vega-embed canvas {\n",
       "  border: 1px dotted gray;\n",
       "}\n",
       "\n",
       ".vega-embed .vega-actions a {\n",
       "  margin-right: 6px;\n",
       "}\n",
       "</style>\n"
      ]
     },
     "metadata": {
      "jupyter-vega": "#8715cfe9-5bab-46c2-81f8-b1b89ade3af5"
     },
     "output_type": "display_data"
    },
    {
     "data": {
      "application/javascript": [
       "var spec = {\"config\": {\"cell\": {\"width\": 500, \"height\": 350}}, \"encoding\": {\"x\": {\"field\": \"name\", \"type\": \"nominal\"}, \"y\": {\"field\": \"value\", \"scale\": {\"domain\": [1.8, 3.6]}, \"type\": \"quantitative\"}}, \"mark\": \"line\", \"data\": {\"values\": [{\"name\": \"C\", \"value\": 2.0}, {\"name\": \"D\", \"value\": 2.5}, {\"name\": \"E\", \"value\": 3.4}]}, \"$schema\": \"https://vega.github.io/schema/vega-lite/v1.2.1.json\"};\n",
       "var selector = \"#8715cfe9-5bab-46c2-81f8-b1b89ade3af5\";\n",
       "var type = \"vega-lite\";\n",
       "\n",
       "var output_area = this;\n",
       "require(['nbextensions/jupyter-vega/index'], function(vega) {\n",
       "  vega.render(selector, spec, type, output_area);\n",
       "}, function (err) {\n",
       "  if (err.requireType !== 'scripterror') {\n",
       "    throw(err);\n",
       "  }\n",
       "});\n"
      ]
     },
     "metadata": {
      "jupyter-vega": "#8715cfe9-5bab-46c2-81f8-b1b89ade3af5"
     },
     "output_type": "display_data"
    },
    {
     "data": {
      "image/png": "[encoded data removed]"
     },
     "metadata": {
      "jupyter-vega": "#8715cfe9-5bab-46c2-81f8-b1b89ade3af5"
     },
     "output_type": "display_data"
    }
   ],
   "source": [
    "import pandas as pd\n",
    "import altair as alt #from altair import *\n",
    "\n",
    "df = pd.read_csv('data/ex2.csv') # 2.0 2.5 3.4\n",
    "\n",
    "alt.Chart(df).mark_line().encode(\n",
    "    x='name',\n",
    "    y=alt.Y('value:Q', scale=alt.Scale(domain=(1.8, 3.6))),\n",
    ")"
   ]
  }
 ],
 "metadata": {
  "kernelspec": {
   "display_name": "Python 3",
   "language": "python",
   "name": "python3"
  },
  "language_info": {
   "codemirror_mode": {
    "name": "ipython",
    "version": 3
   },
   "file_extension": ".py",
   "mimetype": "text/x-python",
   "name": "python",
   "nbconvert_exporter": "python",
   "pygments_lexer": "ipython3",
   "version": "3.6.4"
  }
 },
 "nbformat": 4,
 "nbformat_minor": 2
}
